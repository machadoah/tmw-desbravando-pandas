{
 "cells": [
  {
   "metadata": {},
   "cell_type": "code",
   "source": [
    "import numpy as np\n",
    "import pandas as pd"
   ],
   "id": "ce363db43d097595",
   "outputs": [],
   "execution_count": null
  },
  {
   "metadata": {},
   "cell_type": "markdown",
   "source": [
    "[1] Exercicio:\n",
    "\n",
    "Carregue os dados do arquivo `data/ipea/homicidios.csv` de forma correta e informe:\n",
    "\n",
    "a) Quantidade de linhas\n",
    "\n",
    "b) Quantidade de colunas\n",
    "\n",
    "c) Nome da primeira coluna\n",
    "\n",
    "d) Nome da última coluna"
   ],
   "id": "81593d0123bc8876"
  },
  {
   "metadata": {},
   "cell_type": "code",
   "source": [
    "df_homicidios = pd.read_csv('../data/ipea/homicidios.csv', sep=';')\n",
    "df_homicidios"
   ],
   "id": "857db380e47d903b",
   "outputs": [],
   "execution_count": null
  },
  {
   "metadata": {},
   "cell_type": "markdown",
   "source": "a) Quantidade de linhas",
   "id": "c8f06554569520ab"
  },
  {
   "metadata": {},
   "cell_type": "code",
   "source": "df_homicidios.shape[0]",
   "id": "acf0108c3af28f15",
   "outputs": [],
   "execution_count": null
  },
  {
   "metadata": {},
   "cell_type": "code",
   "source": "df_homicidios.count()['cod']",
   "id": "830d58d24ef46cce",
   "outputs": [],
   "execution_count": null
  },
  {
   "metadata": {},
   "cell_type": "markdown",
   "source": "b) Quantidade de colunas",
   "id": "35b9e04e34684178"
  },
  {
   "metadata": {},
   "cell_type": "code",
   "source": "df_homicidios.shape[1]",
   "id": "ae793ed07bfff44",
   "outputs": [],
   "execution_count": null
  },
  {
   "metadata": {},
   "cell_type": "markdown",
   "source": "c) Nome da primeira coluna",
   "id": "63de467eb39093a2"
  },
  {
   "metadata": {},
   "cell_type": "code",
   "source": "df_homicidios.columns.tolist()[0]",
   "id": "c50e76ec1bd230ec",
   "outputs": [],
   "execution_count": null
  },
  {
   "metadata": {},
   "cell_type": "markdown",
   "source": "d) Nome da última coluna",
   "id": "f074b62fc0da0832"
  },
  {
   "metadata": {},
   "cell_type": "code",
   "source": "df_homicidios.columns.tolist()[-1]",
   "id": "f1100f83c8f7df0e",
   "outputs": [],
   "execution_count": null
  },
  {
   "metadata": {},
   "cell_type": "markdown",
   "source": [
    "**[2] Exercicio:**\n",
    "\n",
    "Carregue os dados do arquivo `data/ipea/homicidios-mulheres-negras.csv` de forma correta e informe:\n",
    "\n",
    "a) Quais colunas são do tipo numérico?\n",
    "\n",
    "b) Quantas colunas são do tipo ‘object’?\n",
    "\n",
    "c) Qual o tamanho destes dados em memória?"
   ],
   "id": "397209a954f425d0"
  },
  {
   "metadata": {},
   "cell_type": "code",
   "source": [
    "df_homicidios_mn = pd.read_csv('../data/ipea/homicidios-mulheres-negras.csv', sep=';')\n",
    "df_homicidios_mn"
   ],
   "id": "4891f364b4b4e1fc",
   "outputs": [],
   "execution_count": null
  },
  {
   "metadata": {},
   "cell_type": "markdown",
   "source": "a) Quais colunas são do tipo numérico?",
   "id": "1761bf5496f67559"
  },
  {
   "metadata": {},
   "cell_type": "markdown",
   "source": "- 1ª forma:",
   "id": "b0c6d15ca91376cd"
  },
  {
   "metadata": {},
   "cell_type": "code",
   "source": "df_homicidios_mn.info()",
   "id": "6ec12da5bfedf1d",
   "outputs": [],
   "execution_count": null
  },
  {
   "metadata": {},
   "cell_type": "code",
   "source": [
    "colunas = df_homicidios_mn.columns.tolist()\n",
    "colunas"
   ],
   "id": "c9e64db17cea28a8",
   "outputs": [],
   "execution_count": null
  },
  {
   "metadata": {},
   "cell_type": "code",
   "source": "colunas_nao_numericas = []",
   "id": "fdfccb06cb1454bf",
   "outputs": [],
   "execution_count": null
  },
  {
   "metadata": {},
   "cell_type": "code",
   "source": [
    "for coluna in colunas:\n",
    "    \n",
    "    tipo = df_homicidios_mn.dtypes[coluna]\n",
    "    \n",
    "    if tipo != 'object':\n",
    "        colunas_nao_numericas.append(coluna)"
   ],
   "id": "f8e43aad67ea4c2c",
   "outputs": [],
   "execution_count": null
  },
  {
   "metadata": {},
   "cell_type": "code",
   "source": "colunas_nao_numericas",
   "id": "a67fd165e175379c",
   "outputs": [],
   "execution_count": null
  },
  {
   "metadata": {},
   "cell_type": "markdown",
   "source": "- 2ª forma:",
   "id": "5d8565ea912de96e"
  },
  {
   "metadata": {},
   "cell_type": "code",
   "source": "df_homicidios_mn.select_dtypes(include='number').columns.tolist()",
   "id": "b626bf0cd9e4b15a",
   "outputs": [],
   "execution_count": null
  },
  {
   "metadata": {},
   "cell_type": "markdown",
   "source": "b) Quantas colunas são do tipo ‘object’?",
   "id": "3dad1388c1ad3461"
  },
  {
   "metadata": {},
   "cell_type": "code",
   "source": "len(df_homicidios_mn.select_dtypes(include='object').columns.tolist())",
   "id": "935d15bc8722ad3a",
   "outputs": [],
   "execution_count": null
  },
  {
   "metadata": {},
   "cell_type": "markdown",
   "source": "c) Qual o tamanho destes dados em memória?",
   "id": "13bc2250fbbc2e2d"
  },
  {
   "metadata": {},
   "cell_type": "code",
   "source": "df_homicidios_mn.info(memory_usage='deep')",
   "id": "5189d90bebe46e3e",
   "outputs": [],
   "execution_count": null
  }
 ],
 "metadata": {
  "kernelspec": {
   "display_name": "Python 3",
   "language": "python",
   "name": "python3"
  },
  "language_info": {
   "codemirror_mode": {
    "name": "ipython",
    "version": 2
   },
   "file_extension": ".py",
   "mimetype": "text/x-python",
   "name": "python",
   "nbconvert_exporter": "python",
   "pygments_lexer": "ipython2",
   "version": "2.7.6"
  }
 },
 "nbformat": 4,
 "nbformat_minor": 5
}
