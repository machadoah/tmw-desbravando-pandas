{
 "cells": [
  {
   "cell_type": "code",
   "id": "initial_id",
   "metadata": {
    "collapsed": true
   },
   "source": "import pandas as pd",
   "outputs": [],
   "execution_count": null
  },
  {
   "metadata": {},
   "cell_type": "code",
   "source": [
    "df_products = pd.read_csv(\n",
    "    '../data/products.csv', sep=\";\",\n",
    "    # header=None, \n",
    "    names=[\"ID\", \"Name\", \"Description\"]\n",
    ")"
   ],
   "id": "59b585fec331b01d",
   "outputs": [],
   "execution_count": null
  },
  {
   "metadata": {},
   "cell_type": "markdown",
   "source": [
    "- Header é o cabeçalho\n",
    "- names são os nomes das colunas"
   ],
   "id": "e5098b0c96102cda"
  },
  {
   "metadata": {},
   "cell_type": "code",
   "source": "df_products",
   "id": "612f32d481b88238",
   "outputs": [],
   "execution_count": null
  },
  {
   "metadata": {},
   "cell_type": "markdown",
   "source": "Exercicio renomear colunas -> Id, Nome e Descrição",
   "id": "dd02581c7dd8f9ac"
  },
  {
   "metadata": {},
   "cell_type": "code",
   "source": "df_products.rename(columns={\"ID\": \"Id\", \"Name\": \"Nome\", \"Description\": \"Descrição\"}, inplace=True)",
   "id": "b311735001c3055e",
   "outputs": [],
   "execution_count": null
  },
  {
   "metadata": {},
   "cell_type": "code",
   "source": "df_products",
   "id": "8caed611c10d96e5",
   "outputs": [],
   "execution_count": null
  }
 ],
 "metadata": {
  "kernelspec": {
   "display_name": "Python 3",
   "language": "python",
   "name": "python3"
  },
  "language_info": {
   "codemirror_mode": {
    "name": "ipython",
    "version": 2
   },
   "file_extension": ".py",
   "mimetype": "text/x-python",
   "name": "python",
   "nbconvert_exporter": "python",
   "pygments_lexer": "ipython2",
   "version": "2.7.6"
  }
 },
 "nbformat": 4,
 "nbformat_minor": 5
}
