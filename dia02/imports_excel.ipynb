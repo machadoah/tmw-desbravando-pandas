{
 "cells": [
  {
   "cell_type": "code",
   "id": "initial_id",
   "metadata": {
    "collapsed": true
   },
   "source": "import pandas as pd",
   "outputs": [],
   "execution_count": null
  },
  {
   "metadata": {},
   "cell_type": "code",
   "source": "df = pd.read_excel('../data/transactions.xlsx')",
   "id": "84b94886cd7784d6",
   "outputs": [],
   "execution_count": null
  },
  {
   "metadata": {},
   "cell_type": "markdown",
   "source": [
    "Erro comum ao ler Excel:\n",
    "\n",
    "**ImportError:** Missing optional dependency 'openpyxl'.  Use pip or conda to install openpyxl."
   ],
   "id": "f24721c6a52c75d0"
  },
  {
   "metadata": {},
   "cell_type": "code",
   "source": "df",
   "id": "e247c7ec697832d8",
   "outputs": [],
   "execution_count": null
  },
  {
   "metadata": {},
   "cell_type": "code",
   "source": "df.shape",
   "id": "7af9311610f12c25",
   "outputs": [],
   "execution_count": null
  },
  {
   "metadata": {},
   "cell_type": "markdown",
   "source": "Lendo as primeiras 5 linhas do DataFrame",
   "id": "838e1ac82391a173"
  },
  {
   "metadata": {},
   "cell_type": "code",
   "source": "df.head()",
   "id": "364ab6263c2c4017",
   "outputs": [],
   "execution_count": null
  },
  {
   "metadata": {},
   "cell_type": "markdown",
   "source": "Lendo as ultimas 5 linhas do DataFrame",
   "id": "88611d5796bf1c88"
  },
  {
   "metadata": {},
   "cell_type": "code",
   "source": "df.tail()",
   "id": "474b493438c0633c",
   "outputs": [],
   "execution_count": null
  },
  {
   "metadata": {},
   "cell_type": "markdown",
   "source": "Ordenando: UUID, Points, IdCustomer, DtTransaction",
   "id": "e289c0ac5dc3ff61"
  },
  {
   "metadata": {},
   "cell_type": "code",
   "source": [
    "colunas = ['UUID', 'Points', 'IdCustomer', 'DtTransaction']\n",
    "df = df[colunas]\n",
    "df"
   ],
   "id": "dd2f36d68859c137",
   "outputs": [],
   "execution_count": null
  },
  {
   "metadata": {},
   "cell_type": "code",
   "source": "df.info(memory_usage='deep')",
   "id": "13477b10cba0674a",
   "outputs": [],
   "execution_count": null
  }
 ],
 "metadata": {
  "kernelspec": {
   "display_name": "Python 3",
   "language": "python",
   "name": "python3"
  },
  "language_info": {
   "codemirror_mode": {
    "name": "ipython",
    "version": 2
   },
   "file_extension": ".py",
   "mimetype": "text/x-python",
   "name": "python",
   "nbconvert_exporter": "python",
   "pygments_lexer": "ipython2",
   "version": "2.7.6"
  }
 },
 "nbformat": 4,
 "nbformat_minor": 5
}
