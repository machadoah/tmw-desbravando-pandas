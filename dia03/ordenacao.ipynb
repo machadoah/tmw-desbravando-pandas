{
 "cells": [
  {
   "cell_type": "code",
   "id": "initial_id",
   "metadata": {
    "collapsed": true
   },
   "source": "import pandas as pd",
   "outputs": [],
   "execution_count": null
  },
  {
   "metadata": {},
   "cell_type": "code",
   "source": "df = pd.read_csv('../data/customers.csv', sep=\";\")",
   "id": "8dcb489381159c57",
   "outputs": [],
   "execution_count": null
  },
  {
   "metadata": {},
   "cell_type": "code",
   "source": "df",
   "id": "999269751faa3bbc",
   "outputs": [],
   "execution_count": null
  },
  {
   "metadata": {},
   "cell_type": "markdown",
   "source": "Ordenando por pontos e caso haja igualdade, usar a ordem alfabética do nome:",
   "id": "7fcdb7b73c1e9d99"
  },
  {
   "metadata": {},
   "cell_type": "code",
   "source": "df.sort_values(by=['Points', 'Name'], ascending=[False, True])",
   "id": "a002af0aed1f6acb",
   "outputs": [],
   "execution_count": null
  },
  {
   "metadata": {},
   "cell_type": "markdown",
   "source": "- Primeiro altera pontos e depois name",
   "id": "ccfd670d614072e3"
  },
  {
   "metadata": {},
   "cell_type": "code",
   "source": "df.sort_values(by=['Points', 'Name'], ascending=[False, True]).tail(10)",
   "id": "fd31b0fe8cda3909",
   "outputs": [],
   "execution_count": null
  },
  {
   "metadata": {},
   "cell_type": "markdown",
   "source": "Ordenando com `.sort_values`",
   "id": "f3b1c027f963d354"
  },
  {
   "metadata": {},
   "cell_type": "code",
   "source": "df.sort_values(by='Points', ascending=False)",
   "id": "451c487cb8e6ff4a",
   "outputs": [],
   "execution_count": null
  },
  {
   "metadata": {},
   "cell_type": "markdown",
   "source": [
    "- padrão do ascenting é True\n",
    "- para alterar o df podemos usar o `inplace=True`"
   ],
   "id": "3b41b959fbbfe28d"
  },
  {
   "metadata": {},
   "cell_type": "code",
   "source": [
    "# df.sort_values(by='Points', ascending=False, inplace=True)\n",
    "# df.rename(columns={'Name': 'Nome', 'Points': 'Pontos'}, inplace=True)\n",
    "# df"
   ],
   "id": "7ab766925c2ce01d",
   "outputs": [],
   "execution_count": null
  },
  {
   "metadata": {},
   "cell_type": "markdown",
   "source": " Encadeando manipulações:",
   "id": "95ab7e4676249a15"
  },
  {
   "metadata": {},
   "cell_type": "code",
   "source": "# df = (df.sort_values(by='Points', ascending=False).rename(columns={'Name': 'Nome', 'Points': 'Pontos'}))",
   "id": "75c2a24fdff0185e",
   "outputs": [],
   "execution_count": null
  },
  {
   "metadata": {},
   "cell_type": "code",
   "source": "df = (df.sort_values(by=['Points', 'Name'], ascending=[False, True])).rename(columns={'Name': 'Nome', 'Points': 'Pontos'})",
   "id": "df06c0210ef31660",
   "outputs": [],
   "execution_count": null
  },
  {
   "metadata": {},
   "cell_type": "code",
   "source": "df",
   "id": "f0ee940b71752d9",
   "outputs": [],
   "execution_count": null
  }
 ],
 "metadata": {
  "kernelspec": {
   "display_name": "Python 3",
   "language": "python",
   "name": "python3"
  },
  "language_info": {
   "codemirror_mode": {
    "name": "ipython",
    "version": 2
   },
   "file_extension": ".py",
   "mimetype": "text/x-python",
   "name": "python",
   "nbconvert_exporter": "python",
   "pygments_lexer": "ipython2",
   "version": "2.7.6"
  }
 },
 "nbformat": 4,
 "nbformat_minor": 5
}
