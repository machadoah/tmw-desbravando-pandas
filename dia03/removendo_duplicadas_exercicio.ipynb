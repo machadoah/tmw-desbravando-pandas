{
 "cells": [
  {
   "cell_type": "code",
   "id": "initial_id",
   "metadata": {
    "collapsed": true
   },
   "source": "import pandas as pd",
   "outputs": [],
   "execution_count": null
  },
  {
   "metadata": {},
   "cell_type": "code",
   "source": [
    "df = pd.read_excel('../data/transactions.xlsx')\n",
    "df"
   ],
   "id": "82fb6fcaf415dbed",
   "outputs": [],
   "execution_count": null
  },
  {
   "metadata": {},
   "cell_type": "markdown",
   "source": "Qual a ultima transação para cada `IdCostumer`?",
   "id": "f22d0afc3040ca81"
  },
  {
   "metadata": {},
   "cell_type": "code",
   "source": "df_last = (df.sort_values(by='DtTransaction' ,ascending=False).drop_duplicates(subset=['IdCustomer'],keep='first'))",
   "id": "809710a6dce83074",
   "outputs": [],
   "execution_count": null
  },
  {
   "metadata": {},
   "cell_type": "code",
   "source": "df_last",
   "id": "b354d7a27d4f5892",
   "outputs": [],
   "execution_count": null
  },
  {
   "metadata": {},
   "cell_type": "markdown",
   "source": "- Verificando se há duplicadas",
   "id": "6824ca66a9c81347"
  },
  {
   "metadata": {},
   "cell_type": "code",
   "source": "df_last['IdCustomer'].count()",
   "id": "bdf7fb7ce0af3f1d",
   "outputs": [],
   "execution_count": null
  },
  {
   "metadata": {},
   "cell_type": "code",
   "source": "df_last['IdCustomer'].nunique()",
   "id": "b6d9a8ffc8bd68f5",
   "outputs": [],
   "execution_count": null
  },
  {
   "metadata": {},
   "cell_type": "code",
   "source": "condicao = df['IdCustomer'] == '5f8fcbe0-6014-43f8-8b83-38cf2f4887b3'",
   "id": "6b28e86fb3f07a65",
   "outputs": [],
   "execution_count": null
  },
  {
   "metadata": {},
   "cell_type": "code",
   "source": "df[condicao]",
   "id": "534b0252e62c73e0",
   "outputs": [],
   "execution_count": null
  },
  {
   "metadata": {},
   "cell_type": "code",
   "source": "df_last[df_last['IdCustomer'] == '5f8fcbe0-6014-43f8-8b83-38cf2f4887b3']",
   "id": "8dea68b90f5108ab",
   "outputs": [],
   "execution_count": null
  }
 ],
 "metadata": {
  "kernelspec": {
   "display_name": "Python 3",
   "language": "python",
   "name": "python3"
  },
  "language_info": {
   "codemirror_mode": {
    "name": "ipython",
    "version": 2
   },
   "file_extension": ".py",
   "mimetype": "text/x-python",
   "name": "python",
   "nbconvert_exporter": "python",
   "pygments_lexer": "ipython2",
   "version": "2.7.6"
  }
 },
 "nbformat": 4,
 "nbformat_minor": 5
}
