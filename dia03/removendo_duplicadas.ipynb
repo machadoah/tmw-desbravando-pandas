{
 "cells": [
  {
   "cell_type": "code",
   "id": "initial_id",
   "metadata": {
    "collapsed": true
   },
   "source": "import pandas as pd",
   "outputs": [],
   "execution_count": null
  },
  {
   "metadata": {},
   "cell_type": "code",
   "source": [
    "data = {\n",
    "    'Nome': ['Téo', 'Nah', 'Maria', 'Nah', 'Lara', 'Téo'],\n",
    "    'Idade': [32, 33, 2, 33, 31, 32],\n",
    "    'updated_at': [1,2,3,1,2,3]\n",
    "}"
   ],
   "id": "8e45125ebf9bb081",
   "outputs": [],
   "execution_count": null
  },
  {
   "metadata": {},
   "cell_type": "code",
   "source": [
    "df = pd.DataFrame(data)\n",
    "df"
   ],
   "id": "d554f1e97521a492",
   "outputs": [],
   "execution_count": null
  },
  {
   "metadata": {},
   "cell_type": "markdown",
   "source": [
    "Removendo os primeiros duplicados!\n",
    "- ordenar por `updated_at`\n",
    "- dropar as duplicadas"
   ],
   "id": "de537268ba2e9f9c"
  },
  {
   "metadata": {},
   "cell_type": "code",
   "source": "df.sort_values(by='updated_at', ascending=False, inplace=True)",
   "id": "c2104d81278d2334",
   "outputs": [],
   "execution_count": null
  },
  {
   "metadata": {},
   "cell_type": "code",
   "source": "df.drop_duplicates(subset=['Nome', 'Idade'],keep='first',inplace=True)",
   "id": "a396d3651480e364",
   "outputs": [],
   "execution_count": null
  },
  {
   "metadata": {},
   "cell_type": "markdown",
   "source": [
    "- `subset` -> filtra somente pelas colunas passadas\n",
    "- `keep` -> qual irá se manter!"
   ],
   "id": "2ad1bbc242990bae"
  },
  {
   "metadata": {},
   "cell_type": "code",
   "source": "df",
   "id": "cc64d4683e88a244",
   "outputs": [],
   "execution_count": null
  },
  {
   "metadata": {},
   "cell_type": "code",
   "source": [
    "# poderia também\n",
    "# df = (df.sort_values(by='updated_at', ascending=False, inplace=True).drop_duplicates(subset=['Nome', 'Idade'],keep='first',inplace=True))"
   ],
   "id": "364a67fad4f0fbbe",
   "outputs": [],
   "execution_count": null
  }
 ],
 "metadata": {
  "kernelspec": {
   "display_name": "Python 3",
   "language": "python",
   "name": "python3"
  },
  "language_info": {
   "codemirror_mode": {
    "name": "ipython",
    "version": 2
   },
   "file_extension": ".py",
   "mimetype": "text/x-python",
   "name": "python",
   "nbconvert_exporter": "python",
   "pygments_lexer": "ipython2",
   "version": "2.7.6"
  }
 },
 "nbformat": 4,
 "nbformat_minor": 5
}
