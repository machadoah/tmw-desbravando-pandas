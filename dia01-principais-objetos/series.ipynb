{
 "cells": [
  {
   "metadata": {},
   "cell_type": "markdown",
   "source": [
    "\n",
    "Importando bibliotecas"
   ],
   "id": "d338780d93033cc4"
  },
  {
   "cell_type": "code",
   "id": "initial_id",
   "metadata": {
    "collapsed": true
   },
   "source": "import pandas as pd",
   "outputs": [],
   "execution_count": null
  },
  {
   "metadata": {},
   "cell_type": "markdown",
   "source": [
    "\n",
    "\n",
    "Brincando com Series"
   ],
   "id": "726a9dd896dd9197"
  },
  {
   "metadata": {},
   "cell_type": "code",
   "source": [
    "ages = [30, 48, 90, 34]\n",
    "ages"
   ],
   "id": "9bcafe55afc80155",
   "outputs": [],
   "execution_count": null
  },
  {
   "metadata": {},
   "cell_type": "markdown",
   "source": [
    "\n",
    "\n",
    "Média:"
   ],
   "id": "9fbd7adb329b26b7"
  },
  {
   "metadata": {},
   "cell_type": "code",
   "source": "media = sum(ages) / len(ages)",
   "id": "87471c54b1fe519f",
   "outputs": [],
   "execution_count": null
  },
  {
   "metadata": {},
   "cell_type": "markdown",
   "source": "Desvio padrão:",
   "id": "edf6a31315caf66d"
  },
  {
   "metadata": {},
   "cell_type": "code",
   "source": [
    "total = 0\n",
    "\n",
    "for i in ages:\n",
    "    total += (media - i) ** 2\n",
    "    \n",
    "variance = total / (len(ages) -1)\n",
    "variance"
   ],
   "id": "9bbb8bc7818317c8",
   "outputs": [],
   "execution_count": null
  },
  {
   "metadata": {},
   "cell_type": "markdown",
   "source": "Convertendo lista em Series",
   "id": "67b2343802fdead4"
  },
  {
   "metadata": {},
   "cell_type": "code",
   "source": "series_ages = pd.Series(ages)",
   "id": "b3cca8ccdff4868a",
   "outputs": [],
   "execution_count": null
  },
  {
   "metadata": {},
   "cell_type": "code",
   "source": "series_ages",
   "id": "5e719ac395dd7d1e",
   "outputs": [],
   "execution_count": null
  },
  {
   "metadata": {},
   "cell_type": "markdown",
   "source": "Métodos de Series",
   "id": "f2bb571526054586"
  },
  {
   "metadata": {},
   "cell_type": "markdown",
   "source": "Média",
   "id": "aa87287321170cb7"
  },
  {
   "metadata": {},
   "cell_type": "code",
   "source": "series_ages.mean()",
   "id": "b3365685bc6b693",
   "outputs": [],
   "execution_count": null
  },
  {
   "metadata": {},
   "cell_type": "markdown",
   "source": "Variância",
   "id": "2c2615af7fd67fed"
  },
  {
   "metadata": {},
   "cell_type": "code",
   "source": "series_ages.var()",
   "id": "fc603b6973b4f397",
   "outputs": [],
   "execution_count": null
  },
  {
   "metadata": {},
   "cell_type": "markdown",
   "source": "Mediana",
   "id": "c1ea998c649aa475"
  },
  {
   "metadata": {},
   "cell_type": "code",
   "source": "series_ages.median()",
   "id": "edc48e78347def00",
   "outputs": [],
   "execution_count": null
  },
  {
   "metadata": {},
   "cell_type": "markdown",
   "source": "Desvio Padrão",
   "id": "a010ffc8815cb50e"
  },
  {
   "metadata": {},
   "cell_type": "code",
   "source": "series_ages.std()",
   "id": "48f6f49aa6ba6f5b",
   "outputs": [],
   "execution_count": null
  },
  {
   "metadata": {},
   "cell_type": "markdown",
   "source": "Primeiro Quartil",
   "id": "149cc0ed4c45ae4a"
  },
  {
   "metadata": {},
   "cell_type": "code",
   "source": "series_ages.quantile(.25)",
   "id": "773ebb941642e551",
   "outputs": [],
   "execution_count": null
  },
  {
   "metadata": {},
   "cell_type": "markdown",
   "source": "Descritiva/Sumarização da Series",
   "id": "1a5f28653bc9a06f"
  },
  {
   "metadata": {},
   "cell_type": "code",
   "source": "series_ages.describe()",
   "id": "aaca0f8e68cff401",
   "outputs": [],
   "execution_count": null
  },
  {
   "metadata": {},
   "cell_type": "markdown",
   "source": "Dimensão da Serie",
   "id": "203573e0e19ae297"
  },
  {
   "metadata": {},
   "cell_type": "code",
   "source": "series_ages.shape",
   "id": "51736df0a8444358",
   "outputs": [],
   "execution_count": null
  },
  {
   "metadata": {},
   "cell_type": "markdown",
   "source": "Navegando na lista",
   "id": "dd597c5ba15f09a8"
  },
  {
   "metadata": {},
   "cell_type": "code",
   "source": "ages[0]",
   "id": "5b939cc99566b75a",
   "outputs": [],
   "execution_count": null
  },
  {
   "metadata": {},
   "cell_type": "markdown",
   "source": "Navegando na série",
   "id": "98908495e99982d9"
  },
  {
   "metadata": {},
   "cell_type": "code",
   "source": "series_ages[0]",
   "id": "97208e57cadfd1d9",
   "outputs": [],
   "execution_count": null
  },
  {
   "metadata": {},
   "cell_type": "markdown",
   "source": "Indexes da séries",
   "id": "8759e3a7bab8d48f"
  },
  {
   "metadata": {},
   "cell_type": "code",
   "source": "series_ages.index",
   "id": "962a8999044decf4",
   "outputs": [],
   "execution_count": null
  },
  {
   "metadata": {},
   "cell_type": "markdown",
   "source": "Alterando index da série",
   "id": "e449c38441f49140"
  },
  {
   "metadata": {},
   "cell_type": "code",
   "source": "series_ages.index = ['S', 'P', 'F', 'C']",
   "id": "3bb9d76d8c7f28",
   "outputs": [],
   "execution_count": null
  },
  {
   "metadata": {},
   "cell_type": "code",
   "source": "series_ages",
   "id": "c07818e07de81976",
   "outputs": [],
   "execution_count": null
  },
  {
   "metadata": {},
   "cell_type": "markdown",
   "source": "Navegando pelos índices novos",
   "id": "12b8a1330e69e650"
  },
  {
   "metadata": {},
   "cell_type": "code",
   "source": [
    "indices = 'SPFC'\n",
    "\n",
    "for letra in indices:\n",
    "    print(series_ages[letra])"
   ],
   "id": "e006f764afb2973",
   "outputs": [],
   "execution_count": null
  },
  {
   "metadata": {},
   "cell_type": "markdown",
   "source": "Se eu pesquisar por `series_ages[0]` usando a posição! Caso não exista um indice com esse valor!",
   "id": "9537d93c84921de9"
  },
  {
   "metadata": {},
   "cell_type": "code",
   "source": "series_ages['S']",
   "id": "3adea910a96410cc",
   "outputs": [],
   "execution_count": null
  },
  {
   "metadata": {},
   "cell_type": "markdown",
   "source": "Navegando explicitamente pela posição com `iloc`",
   "id": "2bd22b411879d4f8"
  },
  {
   "metadata": {},
   "cell_type": "code",
   "source": "series_ages.iloc[0]",
   "id": "e7429d1453498b6",
   "outputs": [],
   "execution_count": null
  },
  {
   "metadata": {},
   "cell_type": "markdown",
   "source": "Pegando o 1º elemento",
   "id": "f73a05891e244576"
  },
  {
   "metadata": {},
   "cell_type": "code",
   "source": "series_ages.iloc[0]",
   "id": "f62931a5754ac548",
   "outputs": [],
   "execution_count": null
  },
  {
   "metadata": {},
   "cell_type": "code",
   "source": [
    "# series_ages.iloc['S']\n",
    "# TypeError: Cannot index by location index with a non-integer key"
   ],
   "id": "1589de12e6c92e71",
   "outputs": [],
   "execution_count": null
  },
  {
   "metadata": {},
   "cell_type": "markdown",
   "source": "",
   "id": "579953f11dc1df53"
  },
  {
   "metadata": {},
   "cell_type": "markdown",
   "source": "Pegando o ultimo elemento",
   "id": "5b9114ac62955511"
  },
  {
   "metadata": {},
   "cell_type": "code",
   "source": "series_ages.iloc[-1]",
   "id": "b493702699b277b6",
   "outputs": [],
   "execution_count": null
  },
  {
   "metadata": {},
   "cell_type": "code",
   "source": "series_ages.iloc[0:2]",
   "id": "cad33d588d830da0",
   "outputs": [],
   "execution_count": null
  },
  {
   "metadata": {},
   "cell_type": "markdown",
   "source": [
    "Usando o `loc` é usado os indices como `[]`\n",
    "\n",
    "- loc: posição\n",
    "- iloc: indice"
   ],
   "id": "d856026b08d7b25a"
  },
  {
   "metadata": {},
   "cell_type": "code",
   "source": "series_ages",
   "id": "df561e690d6aabfa",
   "outputs": [],
   "execution_count": null
  },
  {
   "metadata": {},
   "cell_type": "code",
   "source": "series_ages.loc['P']",
   "id": "1ed12087d21cc09",
   "outputs": [],
   "execution_count": null
  },
  {
   "metadata": {},
   "cell_type": "code",
   "source": "series_ages['P']",
   "id": "48042b415b588c01",
   "outputs": [],
   "execution_count": null
  },
  {
   "metadata": {},
   "cell_type": "markdown",
   "source": "Nomes das series",
   "id": "78b6332bcfb3a6cb"
  },
  {
   "metadata": {},
   "cell_type": "code",
   "source": "series_ages.name = 'idades'",
   "id": "444b6ebf40015d79",
   "outputs": [],
   "execution_count": null
  },
  {
   "metadata": {},
   "cell_type": "code",
   "source": "series_ages",
   "id": "4abc42d32ba88c12",
   "outputs": [],
   "execution_count": null
  },
  {
   "metadata": {},
   "cell_type": "markdown",
   "source": "Criando series com nome",
   "id": "9280b49b66741db6"
  },
  {
   "metadata": {},
   "cell_type": "code",
   "source": "nomes = ['Antonio', 'Isadora', 'Maria', 'Carlos Eduardo']",
   "id": "a24fc24e2f25e789",
   "outputs": [],
   "execution_count": null
  },
  {
   "metadata": {},
   "cell_type": "code",
   "source": "series_nomes = pd.Series(nomes, name='nomes')",
   "id": "c1f7ba0d4af59b28",
   "outputs": [],
   "execution_count": null
  },
  {
   "metadata": {},
   "cell_type": "code",
   "source": "series_nomes.name",
   "id": "a6a98aee2728446f",
   "outputs": [],
   "execution_count": null
  }
 ],
 "metadata": {
  "kernelspec": {
   "display_name": "Python 3",
   "language": "python",
   "name": "python3"
  },
  "language_info": {
   "codemirror_mode": {
    "name": "ipython",
    "version": 2
   },
   "file_extension": ".py",
   "mimetype": "text/x-python",
   "name": "python",
   "nbconvert_exporter": "python",
   "pygments_lexer": "ipython2",
   "version": "2.7.6"
  }
 },
 "nbformat": 4,
 "nbformat_minor": 5
}
