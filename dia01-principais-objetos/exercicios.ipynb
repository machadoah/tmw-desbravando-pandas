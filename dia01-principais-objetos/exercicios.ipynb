{
 "cells": [
  {
   "metadata": {},
   "cell_type": "code",
   "source": "import pandas as pd",
   "id": "f6354b7802ab6243",
   "outputs": [],
   "execution_count": null
  },
  {
   "metadata": {},
   "cell_type": "markdown",
   "source": [
    "##### [1] Exercicios\n",
    "\n",
    "Converta a seguinte lista de dados para uma Series Pandas e obtenha:\n",
    "- Média\n",
    "- Desvio Padrão\n",
    "- Máximo Valor\n",
    "\n",
    "`dados = [10, 20, 42, 9, 12, 35, 24, 10, 8, 14, 21]`\n"
   ],
   "id": "1b4b6d0b2e89af2f"
  },
  {
   "metadata": {},
   "cell_type": "markdown",
   "source": "Criando lista e convertendo para Series",
   "id": "cdc720e2c9607caa"
  },
  {
   "metadata": {},
   "cell_type": "code",
   "source": "dados = [10, 20, 42, 9, 12, 35, 24, 10, 8, 14, 21]",
   "id": "8c43b7c57372bf9d",
   "outputs": [],
   "execution_count": null
  },
  {
   "metadata": {},
   "cell_type": "code",
   "source": "dados = pd.Series(dados)",
   "id": "4f4d2b80c4a3d1f5",
   "outputs": [],
   "execution_count": null
  },
  {
   "metadata": {},
   "cell_type": "markdown",
   "source": "Média",
   "id": "c2aa4a210edcd681"
  },
  {
   "metadata": {},
   "cell_type": "code",
   "source": "dados.mean()",
   "id": "8f1166331c1b6163",
   "outputs": [],
   "execution_count": null
  },
  {
   "metadata": {},
   "cell_type": "markdown",
   "source": "Desvio Padrão",
   "id": "776a825ae52b9909"
  },
  {
   "metadata": {},
   "cell_type": "code",
   "source": "dados.std()",
   "id": "f56fbac415e66592",
   "outputs": [],
   "execution_count": null
  },
  {
   "metadata": {},
   "cell_type": "markdown",
   "source": "Máximo VAlor",
   "id": "4c264d6510a0b20a"
  },
  {
   "metadata": {},
   "cell_type": "code",
   "source": "dados.max()",
   "id": "5dcb54587feb6461",
   "outputs": [],
   "execution_count": null
  },
  {
   "metadata": {},
   "cell_type": "markdown",
   "source": [
    "##### [2] Exercicios\n",
    "\n",
    "Converta o seguinte dicionário para DataFrame e obtenha:\n",
    "- Sumário de cada coluna\n",
    "- Média da coluna idade\n",
    "- Último nome da coluna nome\n",
    "\n",
    "`dados = {“nome”:[“Téo”, “Nah”, “Napoleão”], “idade”: [31, 32, 14]}`\n"
   ],
   "id": "79dfda7c1894c37a"
  },
  {
   "metadata": {},
   "cell_type": "markdown",
   "source": "Criando dicionário e convertendo em DataFrame",
   "id": "d98fa8b57552d3ac"
  },
  {
   "metadata": {},
   "cell_type": "code",
   "source": [
    "dados = {\n",
    "    'nome':['Téo', 'Nah', 'Napoleão'],\n",
    "    'idade': [31, 32, 14]\n",
    "}"
   ],
   "id": "89bdfba50e14c3b3",
   "outputs": [],
   "execution_count": null
  },
  {
   "metadata": {},
   "cell_type": "code",
   "source": "df = pd.DataFrame(dados)",
   "id": "479b3e0d2a7c8276",
   "outputs": [],
   "execution_count": null
  },
  {
   "metadata": {},
   "cell_type": "code",
   "source": "df",
   "id": "a2c1325a7125934d",
   "outputs": [],
   "execution_count": null
  },
  {
   "metadata": {},
   "cell_type": "markdown",
   "source": "Sumarizando colunas",
   "id": "a4df9c01f43dacb1"
  },
  {
   "metadata": {},
   "cell_type": "markdown",
   "source": "- nome",
   "id": "6b9b3aa6249aa2ab"
  },
  {
   "metadata": {},
   "cell_type": "code",
   "source": "sumary_name = df.nome.describe()",
   "id": "b3fd967cf3921dab",
   "outputs": [],
   "execution_count": null
  },
  {
   "metadata": {},
   "cell_type": "code",
   "source": "sumary_name",
   "id": "6e2f97fbf2807667",
   "outputs": [],
   "execution_count": null
  },
  {
   "metadata": {},
   "cell_type": "code",
   "source": [
    "name = df['nome']\n",
    "name"
   ],
   "id": "a90b184ca2c0275d",
   "outputs": [],
   "execution_count": null
  },
  {
   "metadata": {},
   "cell_type": "markdown",
   "source": "- idade",
   "id": "963a20f687189c52"
  },
  {
   "metadata": {},
   "cell_type": "code",
   "source": [
    "sumary_age = df.idade.describe()\n",
    "sumary_age"
   ],
   "id": "dbd25a6d4d7bacdc",
   "outputs": [],
   "execution_count": null
  },
  {
   "metadata": {},
   "cell_type": "code",
   "source": [
    "age = df['idade']\n",
    "age"
   ],
   "id": "a5140df6dde3c6d1",
   "outputs": [],
   "execution_count": null
  },
  {
   "metadata": {},
   "cell_type": "markdown",
   "source": "Média da coluna idade",
   "id": "cca83969d1082f05"
  },
  {
   "metadata": {},
   "cell_type": "code",
   "source": [
    "mean_age = df.idade.mean()\n",
    "mean_age"
   ],
   "id": "eab4e5a2c715664f",
   "outputs": [],
   "execution_count": null
  },
  {
   "metadata": {},
   "cell_type": "code",
   "source": "df['idade'].describe()['mean']",
   "id": "ffceab78fd4a1ec0",
   "outputs": [],
   "execution_count": null
  },
  {
   "metadata": {},
   "cell_type": "markdown",
   "source": "Ultimo nome da coluna nome",
   "id": "702d718ed82f2aa7"
  },
  {
   "metadata": {},
   "cell_type": "code",
   "source": "df['nome'].iloc[-1]",
   "id": "9b82a441f4c03f6e",
   "outputs": [],
   "execution_count": null
  },
  {
   "metadata": {},
   "cell_type": "code",
   "source": "df.nome.iloc[-1]",
   "id": "1d9e5b56844b2158",
   "outputs": [],
   "execution_count": null
  },
  {
   "metadata": {},
   "cell_type": "code",
   "source": "ultimo_registro = df.tail(1)['nome']",
   "id": "3d02ca2ee15e54cc",
   "outputs": [],
   "execution_count": null
  },
  {
   "metadata": {},
   "cell_type": "code",
   "source": "ultimo_registro.describe().top",
   "id": "29a35c277e5eb345",
   "outputs": [],
   "execution_count": null
  }
 ],
 "metadata": {
  "kernelspec": {
   "display_name": "Python 3",
   "language": "python",
   "name": "python3"
  },
  "language_info": {
   "codemirror_mode": {
    "name": "ipython",
    "version": 2
   },
   "file_extension": ".py",
   "mimetype": "text/x-python",
   "name": "python",
   "nbconvert_exporter": "python",
   "pygments_lexer": "ipython2",
   "version": "2.7.6"
  }
 },
 "nbformat": 4,
 "nbformat_minor": 5
}
