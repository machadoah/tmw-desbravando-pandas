{
 "cells": [
  {
   "metadata": {},
   "cell_type": "markdown",
   "source": "Importando bibliotecas",
   "id": "c8598996697dcbd2"
  },
  {
   "cell_type": "code",
   "id": "initial_id",
   "metadata": {
    "collapsed": true
   },
   "source": "import pandas as pd",
   "outputs": [],
   "execution_count": null
  },
  {
   "metadata": {},
   "cell_type": "markdown",
   "source": "Criando dicionario",
   "id": "40be828204ad6c50"
  },
  {
   "metadata": {},
   "cell_type": "code",
   "source": [
    "data = {\n",
    "    'nome':['antonio', 'isadora', 'maria', 'carlos'],\n",
    "    'sobrenome':['machado', 'souza', 'machado de souza', 'machado de souza'],\n",
    "    'idade':[60, 62, 30, 31]\n",
    "}"
   ],
   "id": "909ea9bb7acd1e80",
   "outputs": [],
   "execution_count": null
  },
  {
   "metadata": {},
   "cell_type": "markdown",
   "source": "Qual a idade da primeira pessoa?",
   "id": "9fddb89d8b6df2e5"
  },
  {
   "metadata": {},
   "cell_type": "code",
   "source": "data['idade'][0]",
   "id": "cde0206671f64aec",
   "outputs": [],
   "execution_count": null
  },
  {
   "metadata": {},
   "cell_type": "markdown",
   "source": "Transformando dicionário em dataframe",
   "id": "72e3cc89685a5f5e"
  },
  {
   "metadata": {},
   "cell_type": "code",
   "source": [
    "df = pd.DataFrame(data)\n",
    "df"
   ],
   "id": "347a1f409b5d59b0",
   "outputs": [],
   "execution_count": null
  },
  {
   "metadata": {},
   "cell_type": "code",
   "source": "df['idade']",
   "id": "870fb07c4f3f123e",
   "outputs": [],
   "execution_count": null
  },
  {
   "metadata": {},
   "cell_type": "code",
   "source": "df['idade'].iloc[0]",
   "id": "6d289c9e3c8db0f",
   "outputs": [],
   "execution_count": null
  },
  {
   "metadata": {},
   "cell_type": "markdown",
   "source": "Um dataframe é um conjunto de séries!!!!",
   "id": "5fd0e5ff6dc63ce5"
  },
  {
   "metadata": {},
   "cell_type": "code",
   "source": "type(df['idade'])",
   "id": "b487f92793bf3bc4",
   "outputs": [],
   "execution_count": null
  },
  {
   "metadata": {},
   "cell_type": "code",
   "source": "df['sobrenome'].iloc[0]",
   "id": "5248d75fbdace00a",
   "outputs": [],
   "execution_count": null
  },
  {
   "metadata": {},
   "cell_type": "markdown",
   "source": "Acessando uma linha!",
   "id": "b7c5b4814cbffc7"
  },
  {
   "metadata": {},
   "cell_type": "code",
   "source": "df.iloc[0]",
   "id": "e81430ae5ca3182d",
   "outputs": [],
   "execution_count": null
  },
  {
   "metadata": {},
   "cell_type": "code",
   "source": "type(df.iloc[0])",
   "id": "75006bf85c3ac2f8",
   "outputs": [],
   "execution_count": null
  },
  {
   "metadata": {},
   "cell_type": "markdown",
   "source": "Brincando o indice, invertendo",
   "id": "27e186fd3f059d8b"
  },
  {
   "metadata": {},
   "cell_type": "code",
   "source": "df.index = [3, 2, 1, 0]",
   "id": "420c0451d3af4602",
   "outputs": [],
   "execution_count": null
  },
  {
   "metadata": {},
   "cell_type": "code",
   "source": "df",
   "id": "65a6647eaf971709",
   "outputs": [],
   "execution_count": null
  },
  {
   "metadata": {},
   "cell_type": "markdown",
   "source": "Diferença de `iloc` vs `loc`",
   "id": "49753c5645bc342f"
  },
  {
   "metadata": {},
   "cell_type": "markdown",
   "source": "- Acessa a posição!",
   "id": "cb2fda0cdfc14cb3"
  },
  {
   "metadata": {},
   "cell_type": "code",
   "source": "df['idade'].iloc[0]",
   "id": "4024f88e26d64e8b",
   "outputs": [],
   "execution_count": null
  },
  {
   "metadata": {},
   "cell_type": "markdown",
   "source": "- Acessa o indice!",
   "id": "3c8fe01f6fc29213"
  },
  {
   "metadata": {},
   "cell_type": "code",
   "source": "df['idade'].loc[0]",
   "id": "cb0386b4a37ce8f0",
   "outputs": [],
   "execution_count": null
  },
  {
   "metadata": {},
   "cell_type": "code",
   "source": "df['idade'][0]",
   "id": "c9b2fa4977bac522",
   "outputs": [],
   "execution_count": null
  },
  {
   "metadata": {},
   "cell_type": "markdown",
   "source": "Sendo assim, `['idade'].loc[0]` é equivalente à `[idade][0]`",
   "id": "b9e8c99994144237"
  },
  {
   "metadata": {},
   "cell_type": "markdown",
   "source": "Nomes das colunas e indices",
   "id": "81a06e71802df72c"
  },
  {
   "metadata": {},
   "cell_type": "code",
   "source": "df.index",
   "id": "ecd4ade1fffa2cc1",
   "outputs": [],
   "execution_count": null
  },
  {
   "metadata": {},
   "cell_type": "code",
   "source": "df.columns",
   "id": "811b6a1ae17e8f93",
   "outputs": [],
   "execution_count": null
  },
  {
   "metadata": {},
   "cell_type": "markdown",
   "source": "Informações do df",
   "id": "4d23a1fc6823bbca"
  },
  {
   "metadata": {},
   "cell_type": "code",
   "source": "df.info",
   "id": "f418ab65e978085c",
   "outputs": [],
   "execution_count": null
  },
  {
   "metadata": {},
   "cell_type": "code",
   "source": "df.info(memory_usage='deep')",
   "id": "21bb04fdc89315a0",
   "outputs": [],
   "execution_count": null
  },
  {
   "metadata": {},
   "cell_type": "markdown",
   "source": "Investigando os tipos de dados",
   "id": "874012611fee7b44"
  },
  {
   "metadata": {},
   "cell_type": "code",
   "source": "df.dtypes",
   "id": "68c9e1067410e33",
   "outputs": [],
   "execution_count": null
  },
  {
   "metadata": {},
   "cell_type": "markdown",
   "source": [
    "Descrevendo um dataframe\n",
    "- Aplica estatisticas descritivas na coluna numérica"
   ],
   "id": "18f790ed18a5ddc7"
  },
  {
   "metadata": {},
   "cell_type": "code",
   "source": "df.describe()",
   "id": "65398ea65c43c360",
   "outputs": [],
   "execution_count": null
  },
  {
   "metadata": {},
   "cell_type": "markdown",
   "source": "Adicionando uma coluna **peso**",
   "id": "4d8c69258ba01d0b"
  },
  {
   "metadata": {},
   "cell_type": "code",
   "source": "df['peso'] = [80, 65, 75, 70]",
   "id": "c73fc941f49e701a",
   "outputs": [],
   "execution_count": null
  },
  {
   "metadata": {},
   "cell_type": "code",
   "source": "df.describe()",
   "id": "10f6eea9b7c0bea4",
   "outputs": [],
   "execution_count": null
  },
  {
   "metadata": {},
   "cell_type": "code",
   "source": "sumary = df.describe()",
   "id": "98414c772c6a76ce",
   "outputs": [],
   "execution_count": null
  },
  {
   "metadata": {},
   "cell_type": "code",
   "source": "sumary",
   "id": "bd72d95a0a0fa431",
   "outputs": [],
   "execution_count": null
  },
  {
   "metadata": {},
   "cell_type": "code",
   "source": "sumary['peso']['mean']",
   "id": "281824be1b96e06a",
   "outputs": [],
   "execution_count": null
  },
  {
   "metadata": {},
   "cell_type": "code",
   "source": "sumary['idade']['std']",
   "id": "8a96d19999bf603",
   "outputs": [],
   "execution_count": null
  },
  {
   "metadata": {},
   "cell_type": "markdown",
   "source": [
    "Investigando dataframe\n",
    "\n",
    "- `.head()` e `.tail()` veem as 5 e primeiras linhas!"
   ],
   "id": "41519ec6e504a255"
  },
  {
   "metadata": {},
   "cell_type": "code",
   "source": "df.head()",
   "id": "97e354d8310b1b0a",
   "outputs": [],
   "execution_count": null
  },
  {
   "metadata": {},
   "cell_type": "code",
   "source": "df.head(1)",
   "id": "f98a6a0592f62eff",
   "outputs": [],
   "execution_count": null
  },
  {
   "metadata": {},
   "cell_type": "code",
   "source": "df.tail()",
   "id": "5f3d264c025b7230",
   "outputs": [],
   "execution_count": null
  },
  {
   "metadata": {},
   "cell_type": "code",
   "source": "df.tail(1)",
   "id": "d63520b304fec784",
   "outputs": [],
   "execution_count": null
  }
 ],
 "metadata": {
  "kernelspec": {
   "display_name": "Python 3",
   "language": "python",
   "name": "python3"
  },
  "language_info": {
   "codemirror_mode": {
    "name": "ipython",
    "version": 2
   },
   "file_extension": ".py",
   "mimetype": "text/x-python",
   "name": "python",
   "nbconvert_exporter": "python",
   "pygments_lexer": "ipython2",
   "version": "2.7.6"
  }
 },
 "nbformat": 4,
 "nbformat_minor": 5
}
