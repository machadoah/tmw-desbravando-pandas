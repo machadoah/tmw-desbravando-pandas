{
 "cells": [
  {
   "metadata": {},
   "cell_type": "code",
   "source": "import pandas as pd",
   "id": "initial_id",
   "outputs": [],
   "execution_count": null
  },
  {
   "metadata": {},
   "cell_type": "code",
   "source": "df = pd.read_parquet('../data/transactions_cart.parquet')",
   "id": "ec4db7426bde9f7e",
   "outputs": [],
   "execution_count": null
  },
  {
   "metadata": {},
   "cell_type": "markdown",
   "source": [
    "```\n",
    "**ImportError:** Unable to find a usable engine; tried using: 'pyarrow', 'fastparquet'.\n",
    "A suitable version of pyarrow or fastparquet is required for parquet support.\n",
    "Trying to import the above resulted in these errors:\n",
    " - Missing optional dependency 'pyarrow'. pyarrow is required for parquet support. Use pip or conda to install pyarrow.\n",
    " - Missing optional dependency 'fastparquet'. fastparquet is required for parquet support. Use pip or conda to install fastparquet.\n",
    "```"
   ],
   "id": "8eee5937a823efef"
  },
  {
   "metadata": {},
   "cell_type": "code",
   "source": "df",
   "id": "5fa6744c8f4a4a51",
   "outputs": [],
   "execution_count": null
  }
 ],
 "metadata": {
  "kernelspec": {
   "display_name": "Python 3",
   "language": "python",
   "name": "python3"
  },
  "language_info": {
   "codemirror_mode": {
    "name": "ipython",
    "version": 2
   },
   "file_extension": ".py",
   "mimetype": "text/x-python",
   "name": "python",
   "nbconvert_exporter": "python",
   "pygments_lexer": "ipython2",
   "version": "2.7.6"
  }
 },
 "nbformat": 4,
 "nbformat_minor": 5
}
