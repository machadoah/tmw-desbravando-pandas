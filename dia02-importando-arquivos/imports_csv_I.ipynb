{
 "cells": [
  {
   "metadata": {},
   "cell_type": "markdown",
   "source": "CSV's são arquivos de textos que possuem campos separados por algum caracter, como \";\" ou \",\" ou até \"|\"",
   "id": "ce197cf94477e728"
  },
  {
   "metadata": {},
   "cell_type": "code",
   "source": "import pandas as pd",
   "id": "5898be49c288f22f",
   "outputs": [],
   "execution_count": null
  },
  {
   "metadata": {},
   "cell_type": "code",
   "source": "df_customers = pd.read_csv('../data/customers.csv', sep=\";\")",
   "id": "90335bbe28ae0ad0",
   "outputs": [],
   "execution_count": null
  },
  {
   "metadata": {},
   "cell_type": "code",
   "source": "df_customers",
   "id": "ecd23b0d1d68d1df",
   "outputs": [],
   "execution_count": null
  },
  {
   "metadata": {},
   "cell_type": "markdown",
   "source": "Número de linhas e colunas do dataframe",
   "id": "f4eb580002fcf2ca"
  },
  {
   "metadata": {},
   "cell_type": "code",
   "source": "df_customers.shape",
   "id": "1b4c0112d64975f4",
   "outputs": [],
   "execution_count": null
  },
  {
   "metadata": {},
   "cell_type": "markdown",
   "source": "Quantos de memória esse df ocupa?",
   "id": "5b12a87193500d63"
  },
  {
   "metadata": {},
   "cell_type": "code",
   "source": "df_customers.info(memory_usage='deep')",
   "id": "2428b33ebe824ca8",
   "outputs": [],
   "execution_count": null
  },
  {
   "metadata": {},
   "cell_type": "markdown",
   "source": "Uma estatistica descritiva de pontos:",
   "id": "d257921297fd2a5c"
  },
  {
   "metadata": {},
   "cell_type": "code",
   "source": "df_customers[\"Points\"].describe()",
   "id": "268c87c6f9de0ad0",
   "outputs": [],
   "execution_count": null
  },
  {
   "metadata": {},
   "cell_type": "markdown",
   "source": "Quem tem o máximo de pontos?",
   "id": "fdd005ea1efa039b"
  },
  {
   "metadata": {},
   "cell_type": "code",
   "source": [
    "## exemplo - filtrando notas > 5:\n",
    "notas = [4.5, 6, 7, 3.5]\n",
    "notas_maiores_que_cinco = []\n",
    "\n",
    "for i in notas:\n",
    "    if i > 5:\n",
    "        notas_maiores_que_cinco.append(i)"
   ],
   "id": "7c0301028981852d",
   "outputs": [],
   "execution_count": null
  },
  {
   "metadata": {},
   "cell_type": "code",
   "source": "notas_maiores_que_cinco",
   "id": "2c3e78a3d6b7466",
   "outputs": [],
   "execution_count": null
  },
  {
   "metadata": {},
   "cell_type": "code",
   "source": [
    "## incrementando 1 às notas\n",
    "notas_novas = []\n",
    "\n",
    "for nota in notas:\n",
    "    notas_novas.append(nota + 1)"
   ],
   "id": "a22c2b445178c49e",
   "outputs": [],
   "execution_count": null
  },
  {
   "metadata": {},
   "cell_type": "code",
   "source": "notas_novas",
   "id": "76737c1b846b90b8",
   "outputs": [],
   "execution_count": null
  },
  {
   "metadata": {},
   "cell_type": "markdown",
   "source": "Prática:",
   "id": "ad494d06e05ae449"
  },
  {
   "metadata": {},
   "cell_type": "code",
   "source": "df_customers[\"Points\"]",
   "id": "2d2ebf206d87849f",
   "outputs": [],
   "execution_count": null
  },
  {
   "metadata": {},
   "cell_type": "code",
   "source": [
    "# operações escalares e vetoriais\n",
    "df_customers[\"Points\"] + 1000"
   ],
   "id": "3fc5a638289ae924",
   "outputs": [],
   "execution_count": null
  },
  {
   "metadata": {},
   "cell_type": "code",
   "source": "df_customers[\"Points\"] - 1000",
   "id": "42de3750a7402c5b",
   "outputs": [],
   "execution_count": null
  },
  {
   "metadata": {},
   "cell_type": "code",
   "source": "df_customers[\"Points\"] > 1000",
   "id": "d6eb2913e1ba09c1",
   "outputs": [],
   "execution_count": null
  },
  {
   "metadata": {},
   "cell_type": "code",
   "source": "condicao = df_customers[\"Points\"] > 1000",
   "id": "67c326f06b4f7b86",
   "outputs": [],
   "execution_count": null
  },
  {
   "metadata": {},
   "cell_type": "code",
   "source": [
    "# Retornando somente aonde a condição é verdadeira\n",
    "df_customers[condicao]"
   ],
   "id": "9ee3a0aee78ea34b",
   "outputs": [],
   "execution_count": null
  },
  {
   "metadata": {},
   "cell_type": "markdown",
   "source": "Agora de fato, quem tem mais pontos?",
   "id": "bdaa9d399e79f5e8"
  },
  {
   "metadata": {},
   "cell_type": "code",
   "source": [
    "maximo = df_customers[\"Points\"].max()\n",
    "condicao = df_customers[\"Points\"] == maximo"
   ],
   "id": "c215f9651e3e1fa4",
   "outputs": [],
   "execution_count": null
  },
  {
   "metadata": {},
   "cell_type": "code",
   "source": "df_customers[condicao]",
   "id": "890e81e517582583",
   "outputs": [],
   "execution_count": null
  },
  {
   "metadata": {},
   "cell_type": "markdown",
   "source": "Deixando mais slin:",
   "id": "d34aa13e0f0cde16"
  },
  {
   "metadata": {},
   "cell_type": "code",
   "source": "df_customers[df_customers[\"Points\"] == df_customers[\"Points\"].max()]",
   "id": "332842d0637485bf",
   "outputs": [],
   "execution_count": null
  },
  {
   "metadata": {},
   "cell_type": "code",
   "source": "usuario_mais_pontos = df_customers[df_customers[\"Points\"] == df_customers[\"Points\"].max()][\"Name\"]",
   "id": "1103b70a35ffd843",
   "outputs": [],
   "execution_count": null
  },
  {
   "metadata": {},
   "cell_type": "code",
   "source": "usuario_mais_pontos.iloc[0]",
   "id": "fdbeba6898b51e0d",
   "outputs": [],
   "execution_count": null
  },
  {
   "metadata": {},
   "cell_type": "markdown",
   "source": "Pegando quem tem entre 1000 e 2000",
   "id": "5ff65609d52c0523"
  },
  {
   "metadata": {},
   "cell_type": "code",
   "source": [
    "# usamos o 'ê comercial' para agregar condições\n",
    "condicao = (df_customers[\"Points\"] >= 1000) & (df_customers[\"Points\"] <= 2000)"
   ],
   "id": "cfae785092a2f25e",
   "outputs": [],
   "execution_count": null
  },
  {
   "metadata": {},
   "cell_type": "code",
   "source": "df_customers[condicao]",
   "id": "a692a19705520b08",
   "outputs": [],
   "execution_count": null
  },
  {
   "metadata": {},
   "cell_type": "code",
   "source": "df_customers[condicao].describe()",
   "id": "4915d598e9ca3db",
   "outputs": [],
   "execution_count": null
  },
  {
   "metadata": {},
   "cell_type": "markdown",
   "source": "O python não cria DataFrames novos, somente traz a referências dos dados filtrados!",
   "id": "2059e4fae7d24b23"
  },
  {
   "metadata": {},
   "cell_type": "code",
   "source": [
    "df_1000_2000 = df_customers[condicao]\n",
    "# df_1000_2000[\"Points\"] = df_1000_2000[\"Points\"] + 1000\n",
    "\n",
    "# /tmp/ipykernel_13436/1312051922.py:2: SettingWithCopyWarning: \n",
    "# A value is trying to be set on a copy of a slice from a DataFrame.\n",
    "# Try using .loc[row_indexer,col_indexer] = value instead\n",
    "# \n",
    "# See the caveats in the documentation: https://pandas.pydata.org/pandas-docs/stable/user_guide/indexing.html#returning-a-view-versus-a-copy\n",
    "#   df_1000_2000[\"Points\"] = df_1000_2000[\"Points\"] + 1000"
   ],
   "id": "e52e5bd26b00da7e",
   "outputs": [],
   "execution_count": null
  },
  {
   "metadata": {},
   "cell_type": "code",
   "source": [
    "df_1000_2000 = df_customers[condicao].copy() # criamos uma copia sem alterar o principal\n",
    "df_1000_2000[\"Points\"] = df_1000_2000[\"Points\"] + 1000"
   ],
   "id": "fa1d1cc5526c7d58",
   "outputs": [],
   "execution_count": null
  },
  {
   "metadata": {},
   "cell_type": "code",
   "source": [
    "# exemplo\n",
    "a = [1, 2, 3, 4]\n",
    "b = a\n",
    "print(a)\n",
    "print(b)\n",
    "\n",
    "b.append(5)\n",
    "print(a)\n",
    "print(b)"
   ],
   "id": "f649875908195f54",
   "outputs": [],
   "execution_count": null
  },
  {
   "metadata": {},
   "cell_type": "code",
   "source": "df_customers",
   "id": "fd7610857636d729",
   "outputs": [],
   "execution_count": null
  },
  {
   "metadata": {},
   "cell_type": "markdown",
   "source": "Selecionando colunas:",
   "id": "5ec15ad3a5ee76c1"
  },
  {
   "metadata": {},
   "cell_type": "code",
   "source": "df_customers[\"UUID\"]",
   "id": "c36be5fed5868b9a",
   "outputs": [],
   "execution_count": null
  },
  {
   "metadata": {},
   "cell_type": "code",
   "source": "df_customers[[\"UUID\", \"Name\"]]",
   "id": "37be748b2fc5159f",
   "outputs": [],
   "execution_count": null
  },
  {
   "metadata": {},
   "cell_type": "markdown",
   "source": "Ordenando colunas em ordem alfabética",
   "id": "bfa367769bc17527"
  },
  {
   "metadata": {},
   "cell_type": "code",
   "source": [
    "colunas = df_customers.columns.tolist()\n",
    "colunas.sort()"
   ],
   "id": "2183a6f3c6d8915e",
   "outputs": [],
   "execution_count": null
  },
  {
   "metadata": {},
   "cell_type": "code",
   "source": "df_customers[colunas]",
   "id": "c4136f448f052a85",
   "outputs": [],
   "execution_count": null
  },
  {
   "metadata": {},
   "cell_type": "code",
   "source": [
    "# Alterando DataFrame incial\n",
    "df_customers = df_customers[colunas]"
   ],
   "id": "633eecda74c5d5e5",
   "outputs": [],
   "execution_count": null
  },
  {
   "metadata": {},
   "cell_type": "markdown",
   "source": "Renomeando colunas",
   "id": "68dfd6a0e66fd764"
  },
  {
   "metadata": {},
   "cell_type": "code",
   "source": "df_customers.rename(columns={\"Name\": \"Nome\", \"Points\": \"Pontos\"})",
   "id": "3062964e13077d9f",
   "outputs": [],
   "execution_count": null
  },
  {
   "metadata": {},
   "cell_type": "markdown",
   "source": "o `rename` cria de fato um dataframe novo!",
   "id": "aac5db502fd1675a"
  },
  {
   "metadata": {},
   "cell_type": "code",
   "source": [
    "# o inplace fala que deve ser alterado o original!\n",
    "df_customers.rename(columns={\"Name\": \"Nome\", \"Points\": \"Pontos\"}, inplace=True) "
   ],
   "id": "5627bdfb3724d4",
   "outputs": [],
   "execution_count": null
  },
  {
   "metadata": {},
   "cell_type": "code",
   "source": "df_customers",
   "id": "58954db838292572",
   "outputs": [],
   "execution_count": null
  }
 ],
 "metadata": {
  "kernelspec": {
   "display_name": "Python 3",
   "language": "python",
   "name": "python3"
  },
  "language_info": {
   "codemirror_mode": {
    "name": "ipython",
    "version": 2
   },
   "file_extension": ".py",
   "mimetype": "text/x-python",
   "name": "python",
   "nbconvert_exporter": "python",
   "pygments_lexer": "ipython2",
   "version": "2.7.6"
  }
 },
 "nbformat": 4,
 "nbformat_minor": 5
}
